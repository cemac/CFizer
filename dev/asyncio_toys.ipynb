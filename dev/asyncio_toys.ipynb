{
 "cells": [
  {
   "cell_type": "code",
   "execution_count": 2,
   "metadata": {},
   "outputs": [],
   "source": [
    "import asyncio\n",
    "import xarray as xr\n",
    "from glob import iglob\n",
    "import os\n",
    "\n",
    "def get_n_dims(nc_filepath):\n",
    "    with xr.open_dataset(nc_filepath) as ds:\n",
    "        n_dims = max(\n",
    "            [len(ds[v].dims) for v in ds.variables if v != 'options_database']\n",
    "        )\n",
    "    return n_dims\n",
    "\n",
    "def chunked_file_parser(num_chunks):\n",
    "    semaphore = asyncio.Semaphore(num_chunks)\n",
    "    @asyncio.coroutine\n",
    "    def parse_dims(filepath):\n",
    "        nonlocal semaphore\n",
    "        with (yield from semaphore):\n",
    "            n_dims = yield from get_n_dims(filepath)\n",
    "        return n_dims\n",
    "    return parse_dims\n",
    "\n",
    "def categorise_by_dims(directory):\n",
    "    dim_dict = {\n",
    "        '0+1d': [],\n",
    "        '2d': [],\n",
    "        '3d': []\n",
    "    }\n",
    "    file_parser = chunked_file_parser(10)\n",
    "    tasks = [(f, file_parser(f)) for f in iglob(\n",
    "        pathname=f'{directory}/*.nc', recursive=False\n",
    "    )]\n",
    "    for future in asyncio.as_completed(tasks):\n",
    "        data = yield from future\n",
    "        if data[1] < 3:\n",
    "            dim_dict['0+1d'].append(data[0])\n",
    "        elif data[1] < 4:\n",
    "            dim_dict['2d'].append(data[0])\n",
    "        else:\n",
    "            dim_dict['3d'].append(data[0])\n",
    "    return dim_dict\n"
   ]
  },
  {
   "cell_type": "code",
   "execution_count": 3,
   "metadata": {},
   "outputs": [
    {
     "data": {
      "text/plain": [
       "3"
      ]
     },
     "execution_count": 3,
     "metadata": {},
     "output_type": "execute_result"
    }
   ],
   "source": [
    "test_dir = '/home/earcwi/OneDrive/EUREC4A/Code/CFizer/test_data'\n",
    "get_n_dims(os.path.join(test_dir, 'd20200128_diagnostic_2d_172800.nc'))"
   ]
  },
  {
   "cell_type": "code",
   "execution_count": 4,
   "metadata": {},
   "outputs": [
    {
     "ename": "RuntimeError",
     "evalue": "This event loop is already running",
     "output_type": "error",
     "traceback": [
      "\u001b[0;31m---------------------------------------------------------------------------\u001b[0m",
      "\u001b[0;31mRuntimeError\u001b[0m                              Traceback (most recent call last)",
      "Cell \u001b[0;32mIn[4], line 2\u001b[0m\n\u001b[1;32m      1\u001b[0m loop \u001b[39m=\u001b[39m asyncio\u001b[39m.\u001b[39mget_event_loop()\n\u001b[0;32m----> 2\u001b[0m file_categories \u001b[39m=\u001b[39m loop\u001b[39m.\u001b[39;49mrun_until_complete(categorise_by_dims(directory\u001b[39m=\u001b[39;49mtest_dir))\n\u001b[1;32m      3\u001b[0m \u001b[39mprint\u001b[39m(file_categories)\n",
      "File \u001b[0;32m~/miniconda3/envs/cfizer/lib/python3.10/asyncio/base_events.py:625\u001b[0m, in \u001b[0;36mBaseEventLoop.run_until_complete\u001b[0;34m(self, future)\u001b[0m\n\u001b[1;32m    614\u001b[0m \u001b[39m\u001b[39m\u001b[39m\"\"\"Run until the Future is done.\u001b[39;00m\n\u001b[1;32m    615\u001b[0m \n\u001b[1;32m    616\u001b[0m \u001b[39mIf the argument is a coroutine, it is wrapped in a Task.\u001b[39;00m\n\u001b[0;32m   (...)\u001b[0m\n\u001b[1;32m    622\u001b[0m \u001b[39mReturn the Future's result, or raise its exception.\u001b[39;00m\n\u001b[1;32m    623\u001b[0m \u001b[39m\"\"\"\u001b[39;00m\n\u001b[1;32m    624\u001b[0m \u001b[39mself\u001b[39m\u001b[39m.\u001b[39m_check_closed()\n\u001b[0;32m--> 625\u001b[0m \u001b[39mself\u001b[39;49m\u001b[39m.\u001b[39;49m_check_running()\n\u001b[1;32m    627\u001b[0m new_task \u001b[39m=\u001b[39m \u001b[39mnot\u001b[39;00m futures\u001b[39m.\u001b[39misfuture(future)\n\u001b[1;32m    628\u001b[0m future \u001b[39m=\u001b[39m tasks\u001b[39m.\u001b[39mensure_future(future, loop\u001b[39m=\u001b[39m\u001b[39mself\u001b[39m)\n",
      "File \u001b[0;32m~/miniconda3/envs/cfizer/lib/python3.10/asyncio/base_events.py:584\u001b[0m, in \u001b[0;36mBaseEventLoop._check_running\u001b[0;34m(self)\u001b[0m\n\u001b[1;32m    582\u001b[0m \u001b[39mdef\u001b[39;00m \u001b[39m_check_running\u001b[39m(\u001b[39mself\u001b[39m):\n\u001b[1;32m    583\u001b[0m     \u001b[39mif\u001b[39;00m \u001b[39mself\u001b[39m\u001b[39m.\u001b[39mis_running():\n\u001b[0;32m--> 584\u001b[0m         \u001b[39mraise\u001b[39;00m \u001b[39mRuntimeError\u001b[39;00m(\u001b[39m'\u001b[39m\u001b[39mThis event loop is already running\u001b[39m\u001b[39m'\u001b[39m)\n\u001b[1;32m    585\u001b[0m     \u001b[39mif\u001b[39;00m events\u001b[39m.\u001b[39m_get_running_loop() \u001b[39mis\u001b[39;00m \u001b[39mnot\u001b[39;00m \u001b[39mNone\u001b[39;00m:\n\u001b[1;32m    586\u001b[0m         \u001b[39mraise\u001b[39;00m \u001b[39mRuntimeError\u001b[39;00m(\n\u001b[1;32m    587\u001b[0m             \u001b[39m'\u001b[39m\u001b[39mCannot run the event loop while another loop is running\u001b[39m\u001b[39m'\u001b[39m)\n",
      "\u001b[0;31mRuntimeError\u001b[0m: This event loop is already running"
     ]
    }
   ],
   "source": [
    "loop = asyncio.get_event_loop()\n",
    "file_categories = loop.run_until_complete(categorise_by_dims(directory=test_dir))\n",
    "print(file_categories)"
   ]
  }
 ],
 "metadata": {
  "kernelspec": {
   "display_name": "cfizer",
   "language": "python",
   "name": "python3"
  },
  "language_info": {
   "codemirror_mode": {
    "name": "ipython",
    "version": 3
   },
   "file_extension": ".py",
   "mimetype": "text/x-python",
   "name": "python",
   "nbconvert_exporter": "python",
   "pygments_lexer": "ipython3",
   "version": "3.10.12"
  },
  "orig_nbformat": 4
 },
 "nbformat": 4,
 "nbformat_minor": 2
}
