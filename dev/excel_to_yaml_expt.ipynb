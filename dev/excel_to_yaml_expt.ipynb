{
 "cells": [
  {
   "attachments": {},
   "cell_type": "markdown",
   "metadata": {},
   "source": [
    "# Parse Excel Spreadsheet\n"
   ]
  },
  {
   "cell_type": "code",
   "execution_count": 6,
   "metadata": {},
   "outputs": [],
   "source": [
    "import yaml\n",
    "import openpyxl as xl\n",
    "import os"
   ]
  },
  {
   "cell_type": "code",
   "execution_count": 13,
   "metadata": {},
   "outputs": [
    {
     "data": {
      "text/plain": [
       "'/Users/deepthought/Library/CloudStorage/OneDrive-UniversityofLeeds/EUREC4A/Code/CFizer/test_data/MONC standardisation.xlsx'"
      ]
     },
     "execution_count": 13,
     "metadata": {},
     "output_type": "execute_result"
    }
   ],
   "source": [
    "home = os.path.dirname(os.getcwd())\n",
    "os.path.join(home,'test_data/MONC standardisation.xlsx')"
   ]
  },
  {
   "cell_type": "code",
   "execution_count": 14,
   "metadata": {},
   "outputs": [],
   "source": [
    "wb = xl.load_workbook(os.path.join(home,'test_data/MONC standardisation.xlsx'))"
   ]
  },
  {
   "cell_type": "code",
   "execution_count": 15,
   "metadata": {},
   "outputs": [
    {
     "name": "stdout",
     "output_type": "stream",
     "text": [
      "Row count: 104\n"
     ]
    }
   ],
   "source": [
    "ws = wb['Variable names']\n",
    "print('Row count:', ws.max_row)"
   ]
  },
  {
   "cell_type": "code",
   "execution_count": 21,
   "metadata": {},
   "outputs": [
    {
     "name": "stdout",
     "output_type": "stream",
     "text": [
      "None\n",
      "0D\n",
      "time_series_300_1800(time_series_300_1800)\n",
      "VWP_mean(time_series_300_1800)\n",
      "LWP_mean(time_series_300_1800)\n",
      "RWP_mean(time_series_300_1800)\n",
      "VWP_max(time_series_300_1800)\n",
      "LWP_max(time_series_300_1800)\n",
      "RWP_max(time_series_300_1800)\n",
      "w_max(time_series_300_1800)\n",
      "w_min(time_series_300_1800)\n",
      "senhf_mean(time_series_300_1800)\n",
      "lathf_mean(time_series_300_1800)\n",
      "senhf_max(time_series_300_1800)\n",
      "lathf_max(time_series_300_1800)\n",
      "senhf_min(time_series_300_1800)\n",
      "lathf_min(time_series_300_1800)\n",
      "reske_mean(time_series_300_1800)\n",
      "subke_mean(time_series_300_1800)\n",
      "reske_max(time_series_300_1800)\n",
      "subke_max(time_series_300_1800)\n",
      "reske_min(time_series_300_1800)\n",
      "subke_min(time_series_300_1800)\n",
      "surface_precip_mean(time_series_300_1800)\n",
      "surface_precip_max(time_series_300_1800)\n",
      "zn(zn)\n",
      "z(z)\n",
      "None\n",
      "1D\n",
      "time_series_300_1800(time_series_300_1800)\n",
      "prefn(time_series_300_1800, zn)\n",
      "rho(time_series_300_1800, z)\n",
      "rhon(time_series_300_1800, zn)\n",
      "thref(time_series_300_1800, zn)\n",
      "thinit(time_series_300_1800, zn)\n",
      "u_wind_mean(time_series_300_1800, zn)\n",
      "v_wind_mean(time_series_300_1800, zn)\n",
      "w_wind_mean(time_series_300_1800, z)\n",
      "uu_mean(time_series_300_1800, zn)\n",
      "vv_mean(time_series_300_1800, zn)\n",
      "ww_mean(time_series_300_1800, z)\n",
      "www_mean(time_series_300_1800, z)\n",
      "wwww_mean(time_series_300_1800, z)\n",
      "theta_mean(time_series_300_1800, zn)\n",
      "vapour_mmr_mean(time_series_300_1800, zn)\n",
      "rh_mean(time_series_300_1800, zn)\n",
      "liquid_mmr_mean(time_series_300_1800, zn)\n",
      "rain_mmr_mean(time_series_300_1800, zn)\n",
      "wqv_ad_mean(time_series_300_1800, z)\n",
      "wql_ad_mean(time_series_300_1800, z)\n",
      "wqr_ad_mean(time_series_300_1800, z)\n",
      "wqv_cn_mean(time_series_300_1800, z)\n",
      "wql_cn_mean(time_series_300_1800, z)\n",
      "wqr_cn_mean(time_series_300_1800, z)\n",
      "uw_mean(time_series_300_1800, z)\n",
      "vw_mean(time_series_300_1800, z)\n",
      "uv_mean(time_series_300_1800, z)\n",
      "wtheta_cn_mean(time_series_300_1800, z)\n",
      "wtheta_ad_mean(time_series_300_1800, z)\n",
      "wke_mean(time_series_300_1800, z)\n",
      "th2_mean(time_series_300_1800, zn)\n",
      "total_cloud_fraction(time_series_300_1800, zn)\n",
      "liquid_cloud_fraction(time_series_300_1800, zn)\n",
      "ice_cloud_fraction(time_series_300_1800, zn)\n",
      "pcond_mean(time_series_300_1800, zn)\n",
      "praut_mean(time_series_300_1800, zn)\n",
      "pracw_mean(time_series_300_1800, zn)\n",
      "prevp_mean(time_series_300_1800, zn)\n",
      "psedr_mean(time_series_300_1800, zn)\n",
      "psedl_mean(time_series_300_1800, zn)\n",
      "zn(zn)\n",
      "z(z)\n",
      "None\n",
      "2D\n",
      "time_series_1800_1800(time_series_1800_1800)\n",
      "surface_precip(time_series_1800_1800, x, y)\n",
      "vwp(time_series_1800_1800, x, y)\n",
      "lwp(time_series_1800_1800, x, y)\n",
      "rwp(time_series_1800_1800, x, y)\n",
      "senhf(time_series_1800_1800, x, y)\n",
      "lathf(time_series_1800_1800, x, y)\n",
      "reske(time_series_1800_1800, x, y)\n",
      "subke(time_series_1800_1800, x, y)\n",
      "cltop(time_series_1800_1800, x, y)\n",
      "clbas(time_series_1800_1800, x, y)\n",
      "zn(zn)\n",
      "z(z)\n",
      "None\n",
      "3D\n",
      "time_series_1800_1800(time_series_1800_1800) ;\n",
      "w(time_series_1800_1800, x, y, z) ;\n",
      "v(time_series_1800_1800, x, y, zn) ;\n",
      "u(time_series_1800_1800, x, y, zn) ;\n",
      "th(time_series_1800_1800, x, y, zn) ;\n",
      "p(time_series_1800_1800, x, y, zn) ;\n",
      "q_vapour(time_series_1800_1800, x, y, zn) ;\n",
      "q_cloud_liquid_mass(time_series_1800_1800, x, y, zn) ;\n",
      "q_rain_mass(time_series_1800_1800, x, y, zn) ;\n",
      "q_cloud_liquid_number(time_series_1800_1800, x, y, zn) ;\n",
      "q_rain_number(time_series_1800_1800, x, y, zn) ;\n",
      "zn(zn) ;\n",
      "z(z) ;\n",
      "None\n",
      "RADIATION\n"
     ]
    }
   ],
   "source": [
    "for r in ws.rows:\n",
    "    print(r[0].value)"
   ]
  }
 ],
 "metadata": {
  "kernelspec": {
   "display_name": "cfizer",
   "language": "python",
   "name": "python3"
  },
  "language_info": {
   "codemirror_mode": {
    "name": "ipython",
    "version": 3
   },
   "file_extension": ".py",
   "mimetype": "text/x-python",
   "name": "python",
   "nbconvert_exporter": "python",
   "pygments_lexer": "ipython3",
   "version": "3.10.4"
  },
  "orig_nbformat": 4
 },
 "nbformat": 4,
 "nbformat_minor": 2
}
