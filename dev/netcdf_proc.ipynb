{
 "cells": [
  {
   "cell_type": "code",
   "execution_count": 3,
   "metadata": {},
   "outputs": [],
   "source": [
    "import netCDF4 as nc\n",
    "import numpy as np\n",
    "import xarray as xr\n",
    "import os\n",
    "from glob import glob"
   ]
  },
  {
   "cell_type": "code",
   "execution_count": 4,
   "metadata": {},
   "outputs": [
    {
     "data": {
      "text/plain": [
       "'/localhome/home/earcwi/OneDrive/EUREC4A/Code/CFizer/dev'"
      ]
     },
     "execution_count": 4,
     "metadata": {},
     "output_type": "execute_result"
    }
   ],
   "source": [
    "os.getcwd()"
   ]
  },
  {
   "cell_type": "code",
   "execution_count": 5,
   "metadata": {},
   "outputs": [
    {
     "ename": "FileNotFoundError",
     "evalue": "[Errno 2] No such file or directory: '/Users/deepthought/Library/CloudStorage/OneDrive-UniversityofLeeds/EUREC4A/Data/d20200128_diagnostic_0d_172800.nc'",
     "output_type": "error",
     "traceback": [
      "\u001b[0;31m---------------------------------------------------------------------------\u001b[0m",
      "\u001b[0;31mFileNotFoundError\u001b[0m                         Traceback (most recent call last)",
      "Cell \u001b[0;32mIn[5], line 1\u001b[0m\n\u001b[0;32m----> 1\u001b[0m nc0d_1 \u001b[39m=\u001b[39m nc\u001b[39m.\u001b[39;49mDataset(\n\u001b[1;32m      2\u001b[0m     \u001b[39m'\u001b[39;49m\u001b[39m/Users/deepthought/Library/CloudStorage/OneDrive-UniversityofLeeds/EUREC4A/Data/d20200128_diagnostic_0d_172800.nc\u001b[39;49m\u001b[39m'\u001b[39;49m, \u001b[39m'\u001b[39;49m\u001b[39mr\u001b[39;49m\u001b[39m'\u001b[39;49m, \u001b[39mformat\u001b[39;49m\u001b[39m=\u001b[39;49m\u001b[39m'\u001b[39;49m\u001b[39mNETCDF4\u001b[39;49m\u001b[39m'\u001b[39;49m)\n\u001b[1;32m      3\u001b[0m \u001b[39mprint\u001b[39m(nc0d_1\u001b[39m.\u001b[39mdata_model)\n",
      "File \u001b[0;32msrc/netCDF4/_netCDF4.pyx:2464\u001b[0m, in \u001b[0;36mnetCDF4._netCDF4.Dataset.__init__\u001b[0;34m()\u001b[0m\n",
      "File \u001b[0;32msrc/netCDF4/_netCDF4.pyx:2027\u001b[0m, in \u001b[0;36mnetCDF4._netCDF4._ensure_nc_success\u001b[0;34m()\u001b[0m\n",
      "\u001b[0;31mFileNotFoundError\u001b[0m: [Errno 2] No such file or directory: '/Users/deepthought/Library/CloudStorage/OneDrive-UniversityofLeeds/EUREC4A/Data/d20200128_diagnostic_0d_172800.nc'"
     ]
    }
   ],
   "source": [
    "nc0d_1 = nc.Dataset(\n",
    "    '/Users/deepthought/Library/CloudStorage/OneDrive-UniversityofLeeds/EUREC4A/Data/d20200128_diagnostic_0d_172800.nc', 'r', format='NETCDF4')\n",
    "print(nc0d_1.data_model)"
   ]
  },
  {
   "cell_type": "code",
   "execution_count": null,
   "metadata": {},
   "outputs": [
    {
     "name": "stdout",
     "output_type": "stream",
     "text": [
      "['x', 'y', 'z', 'zn', 'qfields', 'number_options', 'active_q_indicies', 'string', 'kvp', 'time_series_300_1800']\n",
      "['time_series_300_1800', 'VWP_mean', 'LWP_mean', 'RWP_mean', 'VWP_max', 'LWP_max', 'RWP_max', 'w_max', 'w_min', 'senhf_mean', 'lathf_mean', 'senhf_max', 'lathf_max', 'senhf_min', 'lathf_min', 'reske_mean', 'subke_mean', 'reske_max', 'subke_max', 'reske_min', 'subke_min', 'surface_precip_mean', 'surface_precip_max', 'zn', 'z', 'options_database']\n",
      "['title', 'created', 'MONC time', 'MONC timestep', 'Diagnostic write frequency', 'Previous diagnostic write at']\n"
     ]
    }
   ],
   "source": [
    "print(list(nc0d_1.dimensions.keys()))\n",
    "print(list(nc0d_1.variables.keys()))\n",
    "print(list(nc0d_1.ncattrs()))"
   ]
  },
  {
   "cell_type": "code",
   "execution_count": null,
   "metadata": {},
   "outputs": [],
   "source": [
    "os.chdir('/Users/deepthought/Library/CloudStorage/OneDrive-UniversityofLeeds/EUREC4A/Data')\n",
    "here = os.getcwd()"
   ]
  },
  {
   "cell_type": "code",
   "execution_count": null,
   "metadata": {},
   "outputs": [
    {
     "data": {
      "text/plain": [
       "['d20200128_diagnostic_3d_313200.nc',\n",
       " 'd20200128_diagnostic_0d_176400.nc',\n",
       " 'd20200128_diagnostic_0d_172800.nc',\n",
       " 'd20200128_diagnostic_2d_176400.nc',\n",
       " 'd20200128_diagnostic_1d_46800.nc',\n",
       " 'd20200128_diagnostic_2d_172800.nc',\n",
       " 'd20200128_diagnostic_1d_43200.nc']"
      ]
     },
     "execution_count": 11,
     "metadata": {},
     "output_type": "execute_result"
    }
   ],
   "source": [
    "glob('*.nc', root_dir=here)"
   ]
  },
  {
   "cell_type": "code",
   "execution_count": null,
   "metadata": {},
   "outputs": [],
   "source": []
  }
 ],
 "metadata": {
  "kernelspec": {
   "display_name": "cfizer",
   "language": "python",
   "name": "python3"
  },
  "language_info": {
   "codemirror_mode": {
    "name": "ipython",
    "version": 3
   },
   "file_extension": ".py",
   "mimetype": "text/x-python",
   "name": "python",
   "nbconvert_exporter": "python",
   "pygments_lexer": "ipython3",
   "version": "3.10.12"
  },
  "orig_nbformat": 4
 },
 "nbformat": 4,
 "nbformat_minor": 2
}
