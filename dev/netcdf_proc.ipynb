{
 "cells": [
  {
   "cell_type": "code",
   "execution_count": 2,
   "metadata": {},
   "outputs": [],
   "source": [
    "import netCDF4 as nc\n",
    "import numpy as np\n",
    "import xarray as xr\n",
    "import os\n",
    "from glob import glob"
   ]
  },
  {
   "cell_type": "code",
   "execution_count": 3,
   "metadata": {},
   "outputs": [],
   "source": [
    "app_dir = os.getcwd()\n",
    "data_dir = os.path.join(os.path.dirname(app_dir), 'test_data')\n",
    "target_dir =  os.path.join(os.path.dirname(data_dir), f'{os.path.basename(data_dir)}+processed')"
   ]
  },
  {
   "cell_type": "code",
   "execution_count": 4,
   "metadata": {},
   "outputs": [
    {
     "name": "stdout",
     "output_type": "stream",
     "text": [
      "NETCDF4\n"
     ]
    }
   ],
   "source": [
    "filename = 'd20200128_diagnostic_0d_3600.nc'\n",
    "nc0d = nc.Dataset(os.path.join(data_dir, filename), 'r', format='NETCDF4')\n",
    "print(nc0d.data_model)"
   ]
  },
  {
   "cell_type": "code",
   "execution_count": 6,
   "metadata": {},
   "outputs": [
    {
     "name": "stdout",
     "output_type": "stream",
     "text": [
      "['x', 'y', 'z', 'zn', 'qfields', 'number_options', 'active_q_indicies', 'string', 'kvp', 'time_series_300_1800']\n",
      "['time_series_300_1800', 'VWP_mean', 'LWP_mean', 'RWP_mean', 'VWP_max', 'LWP_max', 'RWP_max', 'w_max', 'w_min', 'senhf_mean', 'lathf_mean', 'senhf_max', 'lathf_max', 'senhf_min', 'lathf_min', 'reske_mean', 'subke_mean', 'reske_max', 'subke_max', 'reske_min', 'subke_min', 'surface_precip_mean', 'surface_precip_max', 'zn', 'z', 'options_database']\n",
      "['title', 'created', 'MONC time', 'MONC timestep', 'Diagnostic write frequency', 'Previous diagnostic write at']\n"
     ]
    }
   ],
   "source": [
    "print(list(nc0d.dimensions.keys()))\n",
    "print(list(nc0d.variables.keys()))\n",
    "print(list(nc0d.ncattrs()))"
   ]
  },
  {
   "cell_type": "code",
   "execution_count": null,
   "metadata": {},
   "outputs": [],
   "source": [
    "os.chdir('/Users/deepthought/Library/CloudStorage/OneDrive-UniversityofLeeds/EUREC4A/Data')\n",
    "here = os.getcwd()"
   ]
  },
  {
   "cell_type": "code",
   "execution_count": null,
   "metadata": {},
   "outputs": [
    {
     "data": {
      "text/plain": [
       "['d20200128_diagnostic_3d_313200.nc',\n",
       " 'd20200128_diagnostic_0d_176400.nc',\n",
       " 'd20200128_diagnostic_0d_172800.nc',\n",
       " 'd20200128_diagnostic_2d_176400.nc',\n",
       " 'd20200128_diagnostic_1d_46800.nc',\n",
       " 'd20200128_diagnostic_2d_172800.nc',\n",
       " 'd20200128_diagnostic_1d_43200.nc']"
      ]
     },
     "execution_count": 11,
     "metadata": {},
     "output_type": "execute_result"
    }
   ],
   "source": [
    "glob('*.nc', root_dir=here)"
   ]
  },
  {
   "cell_type": "code",
   "execution_count": null,
   "metadata": {},
   "outputs": [],
   "source": []
  }
 ],
 "metadata": {
  "kernelspec": {
   "display_name": "cfizer",
   "language": "python",
   "name": "python3"
  },
  "language_info": {
   "codemirror_mode": {
    "name": "ipython",
    "version": 3
   },
   "file_extension": ".py",
   "mimetype": "text/x-python",
   "name": "python",
   "nbconvert_exporter": "python",
   "pygments_lexer": "ipython3",
   "version": "3.10.4"
  },
  "orig_nbformat": 4
 },
 "nbformat": 4,
 "nbformat_minor": 2
}
