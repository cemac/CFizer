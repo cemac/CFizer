{
 "cells": [
  {
   "cell_type": "code",
   "execution_count": 1,
   "metadata": {},
   "outputs": [],
   "source": [
    "import yaml"
   ]
  },
  {
   "cell_type": "code",
   "execution_count": 2,
   "metadata": {},
   "outputs": [],
   "source": [
    "with open(\"config.yml\") as config_file:\n",
    "    config = yaml.safe_load(config_file)\n"
   ]
  },
  {
   "cell_type": "code",
   "execution_count": 3,
   "metadata": {},
   "outputs": [
    {
     "name": "stdout",
     "output_type": "stream",
     "text": [
      "from_input_file:\n",
      "- variables:\n",
      "  - time:\n",
      "    - units\n",
      "    - calendar\n",
      "- global_attributes:\n",
      "  - origin_datetime\n",
      "global_attributes:\n",
      "- institution: University of Leeds\n",
      "- source: MONC\n",
      "- references: null\n",
      "- comment: null\n",
      "global_to_variable:\n",
      "- MONC timestamp\n",
      "options_database:\n",
      "- variable: options_database\n",
      "- dimensions:\n",
      "  - number_options\n",
      "  - kvp\n",
      "- dx: dxx\n",
      "- dy: dyy\n",
      "- reference_datetime:\n",
      "  - rad_start_year\n",
      "  - rad_start_day\n",
      "  - rad_start_time\n",
      "options_to_attrs:\n",
      "- smagorinsky_enabled\n",
      "- damping_enabled\n",
      "- socrates_couple_enabled\n",
      "- casim_enabled\n",
      "- galilean_transformation\n",
      "- time_basis\n",
      "- use_anelastic_equations\n",
      "- coriolis_enabled\n",
      "- diffusion_enabled\n",
      "- use_viscosity_and_diffusion\n",
      "- dxx\n",
      "- dyy\n",
      "- z_size\n",
      "- zztop\n",
      "- dtm\n",
      "- cfl_cvismax\n",
      "- cfl_cvelmax\n",
      "- cfl_dtmmin\n",
      "- cfl_dtmmax\n",
      "- surface_pressure\n",
      "- surface_reference_pressure\n",
      "- zdmp\n",
      "- hdmp\n",
      "- thref0\n",
      "- l_matchthref\n",
      "- smag-subc\n",
      "- smag-subb\n",
      "- rmlmax\n",
      "- advection_flow_fields\n",
      "- advection_theta_field\n",
      "- advection_q_fields\n",
      "- l_warm\n",
      "- number_q_fields\n",
      "- option\n",
      "- max_height_cloud\n",
      "- fixed_cloud_number\n",
      "- aerosol_option\n",
      "- rad_start_year\n",
      "- rad_start_day\n",
      "- rad_start_time\n",
      "- l_use_ndrop\n",
      "- l_fix_re\n",
      "- mcc_temperature_profile\n",
      "- mcc_vapour_profile\n",
      "- mcc_ozone_profile\n",
      "- dephy_forcings_enabled\n",
      "- dephy_file\n",
      "\n"
     ]
    }
   ],
   "source": [
    "print(yaml.safe_dump(config))\n"
   ]
  },
  {
   "cell_type": "code",
   "execution_count": 4,
   "metadata": {},
   "outputs": [
    {
     "data": {
      "text/plain": [
       "[{'institution': 'University of Leeds'},\n",
       " {'source': 'MONC'},\n",
       " {'references': None},\n",
       " {'comment': None}]"
      ]
     },
     "execution_count": 4,
     "metadata": {},
     "output_type": "execute_result"
    }
   ],
   "source": [
    "config['global_attributes']"
   ]
  },
  {
   "cell_type": "code",
   "execution_count": 6,
   "metadata": {},
   "outputs": [
    {
     "name": "stdout",
     "output_type": "stream",
     "text": [
      "{'institution': 'University of Leeds'}\n",
      "{'source': 'MONC'}\n",
      "{'references': None}\n",
      "{'comment': None}\n"
     ]
    }
   ],
   "source": [
    "for a in config['global_attributes']:\n",
    "    if isinstance(a, dict): print({k: v for k, v in a.items()})"
   ]
  },
  {
   "cell_type": "code",
   "execution_count": null,
   "metadata": {},
   "outputs": [],
   "source": []
  }
 ],
 "metadata": {
  "kernelspec": {
   "display_name": "cfizer",
   "language": "python",
   "name": "python3"
  },
  "language_info": {
   "codemirror_mode": {
    "name": "ipython",
    "version": 3
   },
   "file_extension": ".py",
   "mimetype": "text/x-python",
   "name": "python",
   "nbconvert_exporter": "python",
   "pygments_lexer": "ipython3",
   "version": "3.10.4"
  },
  "orig_nbformat": 4
 },
 "nbformat": 4,
 "nbformat_minor": 2
}
